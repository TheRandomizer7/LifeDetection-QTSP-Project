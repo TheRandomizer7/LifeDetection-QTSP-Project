{
  "nbformat": 4,
  "nbformat_minor": 0,
  "metadata": {
    "colab": {
      "name": "Life Detection QSTP Week 4",
      "provenance": [],
      "collapsed_sections": []
    },
    "kernelspec": {
      "name": "python3",
      "display_name": "Python 3"
    },
    "language_info": {
      "name": "python"
    },
    "accelerator": "GPU"
  },
  "cells": [
    {
      "cell_type": "markdown",
      "metadata": {
        "id": "ZbZxj3RWlert"
      },
      "source": [
        "# Practice\n",
        "\n"
      ]
    },
    {
      "cell_type": "code",
      "metadata": {
        "colab": {
          "base_uri": "https://localhost:8080/"
        },
        "id": "RcGyj-9ElREO",
        "outputId": "19b97374-df0c-4445-e7d7-60198a0154aa"
      },
      "source": [
        "print(100 + 250)"
      ],
      "execution_count": null,
      "outputs": [
        {
          "output_type": "stream",
          "text": [
            "350\n"
          ],
          "name": "stdout"
        }
      ]
    },
    {
      "cell_type": "markdown",
      "metadata": {
        "id": "i1sXmZ8gnWRr"
      },
      "source": [
        "# Week 4 Assignment 1"
      ]
    },
    {
      "cell_type": "markdown",
      "metadata": {
        "id": "6F9ktOlK_joS"
      },
      "source": [
        "## Getting all image urls and saving them in a file 'urls.txt'"
      ]
    },
    {
      "cell_type": "markdown",
      "metadata": {
        "id": "Jgtl4C37AAM-"
      },
      "source": [
        "### 1) Simulate right mouse click"
      ]
    },
    {
      "cell_type": "code",
      "metadata": {
        "id": "iHtu9wlm_o-V"
      },
      "source": [
        "/**\n",
        " * simulate a right-click event so we can grab the image URL using the\n",
        " * context menu alleviating the need to navigate to another page\n",
        " *\n",
        " * attributed to @jmiserez: http://pyimg.co/9qe7y\n",
        " *\n",
        " * @param   {object}  element  DOM Element\n",
        " *\n",
        " * @return  {void}\n",
        " */\n",
        "function simulateRightClick( element ) {\n",
        "    var event1 = new MouseEvent( 'mousedown', {\n",
        "        bubbles: true,\n",
        "        cancelable: false,\n",
        "        view: window,\n",
        "        button: 2,\n",
        "        buttons: 2,\n",
        "        clientX: element.getBoundingClientRect().x,\n",
        "        clientY: element.getBoundingClientRect().y\n",
        "    } );\n",
        "    element.dispatchEvent( event1 );\n",
        "    var event2 = new MouseEvent( 'mouseup', {\n",
        "        bubbles: true,\n",
        "        cancelable: false,\n",
        "        view: window,\n",
        "        button: 2,\n",
        "        buttons: 0,\n",
        "        clientX: element.getBoundingClientRect().x,\n",
        "        clientY: element.getBoundingClientRect().y\n",
        "    } );\n",
        "    element.dispatchEvent( event2 );\n",
        "    var event3 = new MouseEvent( 'contextmenu', {\n",
        "        bubbles: true,\n",
        "        cancelable: false,\n",
        "        view: window,\n",
        "        button: 2,\n",
        "        buttons: 0,\n",
        "        clientX: element.getBoundingClientRect().x,\n",
        "        clientY: element.getBoundingClientRect().y\n",
        "    } );\n",
        "    element.dispatchEvent( event3 );\n",
        "}"
      ],
      "execution_count": null,
      "outputs": []
    },
    {
      "cell_type": "markdown",
      "metadata": {
        "id": "xW9SlS7pALFk"
      },
      "source": [
        "### 2) Get urls from image"
      ]
    },
    {
      "cell_type": "code",
      "metadata": {
        "id": "O_6qDb7t_-0q"
      },
      "source": [
        "/**\n",
        " * grabs a URL Parameter from a query string because Google Images\n",
        " * stores the full image URL in a query parameter\n",
        " *\n",
        " * @param   {string}  queryString  The Query String\n",
        " * @param   {string}  key          The key to grab a value for\n",
        " *\n",
        " * @return  {string}               value\n",
        " */\n",
        "function getURLParam( queryString, key ) {\n",
        "    var vars = queryString.replace( /^\\?/, '' ).split( '&' );\n",
        "    for ( let i = 0; i < vars.length; i++ ) {\n",
        "        let pair = vars[ i ].split( '=' );\n",
        "        if ( pair[0] == key ) {\n",
        "            return pair[1];\n",
        "        }\n",
        "    }\n",
        "    return false;\n",
        "}"
      ],
      "execution_count": null,
      "outputs": []
    },
    {
      "cell_type": "markdown",
      "metadata": {
        "id": "axTNKoMiASPf"
      },
      "source": [
        "### 3) Add all urls to the urls.txt file"
      ]
    },
    {
      "cell_type": "code",
      "metadata": {
        "id": "5xMuKBCJAPKE"
      },
      "source": [
        "/**\n",
        " * Generate and automatically download a txt file from the URL contents\n",
        " *\n",
        " * @param   {string}  contents  The contents to download\n",
        " *\n",
        " * @return  {void}\n",
        " */\n",
        "function createDownload( contents ) {\n",
        "    var hiddenElement = document.createElement( 'a' );\n",
        "    hiddenElement.href = 'data:attachment/text,' + encodeURI( contents );\n",
        "    hiddenElement.target = '_blank';\n",
        "    hiddenElement.download = 'urls.txt';\n",
        "    hiddenElement.click();\n",
        "}"
      ],
      "execution_count": null,
      "outputs": []
    },
    {
      "cell_type": "markdown",
      "metadata": {
        "id": "DA_6XGdMAWcA"
      },
      "source": [
        "### 4) Final function that calls all other functions in order to make everything work"
      ]
    },
    {
      "cell_type": "code",
      "metadata": {
        "id": "uRObyYO8Aeyo"
      },
      "source": [
        "/**\n",
        " * grab all URLs va a Promise that resolves once all URLs have been\n",
        " * acquired\n",
        " *\n",
        " * @return  {object}  Promise object\n",
        " */\n",
        "function grabUrls() {\n",
        "    var urls = [];\n",
        "    return new Promise( function( resolve, reject ) {\n",
        "        var count = document.querySelectorAll(\n",
        "        \t'.isv-r a:first-of-type' ).length,\n",
        "            index = 0;\n",
        "        Array.prototype.forEach.call( document.querySelectorAll(\n",
        "        \t'.isv-r a:first-of-type' ), function( element ) {\n",
        "            // using the right click menu Google will generate the\n",
        "            // full-size URL; won't work in Internet Explorer\n",
        "            // (http://pyimg.co/byukr)\n",
        "            simulateRightClick( element.querySelector( ':scope img' ) );\n",
        "            // Wait for it to appear on the <a> element\n",
        "            var interval = setInterval( function() {\n",
        "                if ( element.href.trim() !== '' ) {\n",
        "                    clearInterval( interval );\n",
        "                    // extract the full-size version of the image\n",
        "                    let googleUrl = element.href.replace( /.*(\\?)/, '$1' ),\n",
        "                        fullImageUrl = decodeURIComponent(\n",
        "                        \tgetURLParam( googleUrl, 'imgurl' ) );\n",
        "                    if ( fullImageUrl !== 'false' ) {\n",
        "                        urls.push( fullImageUrl );\n",
        "                    }\n",
        "                    // sometimes the URL returns a \"false\" string and\n",
        "                    // we still want to count those so our Promise\n",
        "                    // resolves\n",
        "                    index++;\n",
        "                    if ( index == ( count - 1 ) ) {\n",
        "                        resolve( urls );\n",
        "                    }\n",
        "                }\n",
        "            }, 10 );\n",
        "        } );\n",
        "    } );\n",
        "}"
      ],
      "execution_count": null,
      "outputs": []
    },
    {
      "cell_type": "markdown",
      "metadata": {
        "id": "u0JJiIEMAkHR"
      },
      "source": [
        "### 5) Calling the above function"
      ]
    },
    {
      "cell_type": "code",
      "metadata": {
        "id": "6YEqa_uAAmdu"
      },
      "source": [
        "/**\n",
        " * Call the main function to grab the URLs and initiate the download\n",
        " */\n",
        "grabUrls().then( function( urls ) {\n",
        "    urls = urls.join( '\\n' );\n",
        "    createDownload( urls );\n",
        "} );"
      ],
      "execution_count": null,
      "outputs": []
    },
    {
      "cell_type": "markdown",
      "metadata": {
        "id": "EUQgUHpq_fRx"
      },
      "source": [
        "## Downloading images from urls.txt"
      ]
    },
    {
      "cell_type": "code",
      "metadata": {
        "id": "yf1KhZPowFcX"
      },
      "source": [
        "from imutils import paths\n",
        "import argparse\n",
        "import requests\n",
        "import cv2\n",
        "import os\n",
        "\n",
        "# grab the list of URLs from the input file, then initialize the\n",
        "# total number of images downloaded thus far\n",
        "rows = open('/content/assets/input/cars_urls.txt').read().strip().split(\"\\n\")\n",
        "total = 0\n",
        "\n",
        "for url in rows:\n",
        "  # try to download the image\n",
        "  try:\n",
        "    r = requests.get(url, timeout=60)\n",
        "    # save the image to disk\n",
        "    p = os.path.sep.join(['/content/assets/output/cars', \"{}.jpg\".format(\n",
        "    \tstr(total).zfill(8))])\n",
        "    f = open(p, \"wb\")\n",
        "    f.write(r.content)\n",
        "    f.close()\n",
        "    # update the counter\n",
        "    print(\"[INFO] downloaded: {}\".format(p))\n",
        "    total += 1\n",
        "\t# handle if any exceptions are thrown during the download process\n",
        "  except:\n",
        "    print(\"[INFO] error downloading {}...skipping\".format(p))"
      ],
      "execution_count": null,
      "outputs": []
    },
    {
      "cell_type": "code",
      "metadata": {
        "id": "3YjP4n2YK1jq"
      },
      "source": [
        "from imutils import paths\n",
        "import argparse\n",
        "import requests\n",
        "import cv2\n",
        "import os\n",
        "\n",
        "# grab the list of URLs from the input file, then initialize the\n",
        "# total number of images downloaded thus far\n",
        "rows = open('/content/assets/input/truck_urls.txt').read().strip().split(\"\\n\")\n",
        "total = 0\n",
        "\n",
        "for url in rows:\n",
        "  # try to download the image\n",
        "  try:\n",
        "    r = requests.get(url, timeout=60)\n",
        "    # save the image to disk\n",
        "    p = os.path.sep.join(['/content/assets/output/trucks', \"{}.jpg\".format(\n",
        "    \tstr(total).zfill(8))])\n",
        "    f = open(p, \"wb\")\n",
        "    f.write(r.content)\n",
        "    f.close()\n",
        "    # update the counter\n",
        "    print(\"[INFO] downloaded: {}\".format(p))\n",
        "    total += 1\n",
        "\t# handle if any exceptions are thrown during the download process\n",
        "  except:\n",
        "    print(\"[INFO] error downloading {}...skipping\".format(p))"
      ],
      "execution_count": null,
      "outputs": []
    },
    {
      "cell_type": "code",
      "metadata": {
        "id": "qtEvpnDIKxrV"
      },
      "source": [
        "from imutils import paths\n",
        "import argparse\n",
        "import requests\n",
        "import cv2\n",
        "import os\n",
        "\n",
        "# grab the list of URLs from the input file, then initialize the\n",
        "# total number of images downloaded thus far\n",
        "rows = open('/content/assets/input/boats_urls.txt').read().strip().split(\"\\n\")\n",
        "total = 0\n",
        "\n",
        "for url in rows:\n",
        "  # try to download the image\n",
        "  try:\n",
        "    r = requests.get(url, timeout=60)\n",
        "    # save the image to disk\n",
        "    p = os.path.sep.join(['/content/assets/output/boats', \"{}.jpg\".format(\n",
        "    \tstr(total).zfill(8))])\n",
        "    f = open(p, \"wb\")\n",
        "    f.write(r.content)\n",
        "    f.close()\n",
        "    # update the counter\n",
        "    print(\"[INFO] downloaded: {}\".format(p))\n",
        "    total += 1\n",
        "\t# handle if any exceptions are thrown during the download process\n",
        "  except:\n",
        "    print(\"[INFO] error downloading {}...skipping\".format(p))"
      ],
      "execution_count": null,
      "outputs": []
    },
    {
      "cell_type": "code",
      "metadata": {
        "id": "Ykc4cOelLeZV"
      },
      "source": [
        "from imutils import paths\n",
        "import argparse\n",
        "import requests\n",
        "import cv2\n",
        "import os\n",
        "\n",
        "# grab the list of URLs from the input file, then initialize the\n",
        "# total number of images downloaded thus far\n",
        "rows = open('/content/assets/input/planes_urls.txt').read().strip().split(\"\\n\")\n",
        "total = 0\n",
        "\n",
        "for url in rows:\n",
        "  # try to download the image\n",
        "  try:\n",
        "    r = requests.get(url, timeout=60)\n",
        "    # save the image to disk\n",
        "    p = os.path.sep.join(['/content/assets/output/planes', \"{}.jpg\".format(\n",
        "    \tstr(total).zfill(8))])\n",
        "    f = open(p, \"wb\")\n",
        "    f.write(r.content)\n",
        "    f.close()\n",
        "    # update the counter\n",
        "    print(\"[INFO] downloaded: {}\".format(p))\n",
        "    total += 1\n",
        "\t# handle if any exceptions are thrown during the download process\n",
        "  except:\n",
        "    print(\"[INFO] error downloading {}...skipping\".format(p))"
      ],
      "execution_count": null,
      "outputs": []
    },
    {
      "cell_type": "code",
      "metadata": {
        "id": "_g04-VrKP0o2"
      },
      "source": [
        "from imutils import paths\n",
        "import argparse\n",
        "import requests\n",
        "import cv2\n",
        "import os\n",
        "\n",
        "# grab the list of URLs from the input file, then initialize the\n",
        "# total number of images downloaded thus far\n",
        "rows = open('/content/assets/input/submarines_urls.txt').read().strip().split(\"\\n\")\n",
        "total = 0\n",
        "\n",
        "for url in rows:\n",
        "  # try to download the image\n",
        "  try:\n",
        "    r = requests.get(url, timeout=60)\n",
        "    # save the image to disk\n",
        "    p = os.path.sep.join(['/content/assets/output/submarines', \"{}.jpg\".format(\n",
        "    \tstr(total).zfill(8))])\n",
        "    f = open(p, \"wb\")\n",
        "    f.write(r.content)\n",
        "    f.close()\n",
        "    # update the counter\n",
        "    print(\"[INFO] downloaded: {}\".format(p))\n",
        "    total += 1\n",
        "\t# handle if any exceptions are thrown during the download process\n",
        "  except:\n",
        "    print(\"[INFO] error downloading {}...skipping\".format(p))"
      ],
      "execution_count": null,
      "outputs": []
    },
    {
      "cell_type": "code",
      "metadata": {
        "id": "8MtoJ3_LT6Uw"
      },
      "source": [
        "!zip -r /content/boats.zip /content/assets/output/boats\n",
        "!zip -r /content/cars.zip /content/assets/output/cars\n",
        "!zip -r /content/planes.zip /content/assets/output/planes\n",
        "!zip -r /content/trucks.zip /content/assets/output/trucks\n",
        "!zip -r /content/submarines.zip /content/assets/output/submarines"
      ],
      "execution_count": null,
      "outputs": []
    },
    {
      "cell_type": "code",
      "metadata": {
        "colab": {
          "base_uri": "https://localhost:8080/",
          "height": 17
        },
        "id": "GeNnaqMOWnNi",
        "outputId": "e2f1baab-ebba-4dbf-9601-f27119ebbab0"
      },
      "source": [
        "from google.colab import files\n",
        "files.download(\"/content/boats.zip\")\n",
        "files.download(\"/content/planes.zip\")\n",
        "files.download(\"/content/submarines.zip\")\n",
        "files.download(\"/content/trucks.zip\")"
      ],
      "execution_count": 11,
      "outputs": [
        {
          "output_type": "display_data",
          "data": {
            "application/javascript": [
              "\n",
              "    async function download(id, filename, size) {\n",
              "      if (!google.colab.kernel.accessAllowed) {\n",
              "        return;\n",
              "      }\n",
              "      const div = document.createElement('div');\n",
              "      const label = document.createElement('label');\n",
              "      label.textContent = `Downloading \"${filename}\": `;\n",
              "      div.appendChild(label);\n",
              "      const progress = document.createElement('progress');\n",
              "      progress.max = size;\n",
              "      div.appendChild(progress);\n",
              "      document.body.appendChild(div);\n",
              "\n",
              "      const buffers = [];\n",
              "      let downloaded = 0;\n",
              "\n",
              "      const channel = await google.colab.kernel.comms.open(id);\n",
              "      // Send a message to notify the kernel that we're ready.\n",
              "      channel.send({})\n",
              "\n",
              "      for await (const message of channel.messages) {\n",
              "        // Send a message to notify the kernel that we're ready.\n",
              "        channel.send({})\n",
              "        if (message.buffers) {\n",
              "          for (const buffer of message.buffers) {\n",
              "            buffers.push(buffer);\n",
              "            downloaded += buffer.byteLength;\n",
              "            progress.value = downloaded;\n",
              "          }\n",
              "        }\n",
              "      }\n",
              "      const blob = new Blob(buffers, {type: 'application/binary'});\n",
              "      const a = document.createElement('a');\n",
              "      a.href = window.URL.createObjectURL(blob);\n",
              "      a.download = filename;\n",
              "      div.appendChild(a);\n",
              "      a.click();\n",
              "      div.remove();\n",
              "    }\n",
              "  "
            ],
            "text/plain": [
              "<IPython.core.display.Javascript object>"
            ]
          },
          "metadata": {
            "tags": []
          }
        },
        {
          "output_type": "display_data",
          "data": {
            "application/javascript": [
              "download(\"download_1087d597-246e-459e-ba8d-1b527eb98c25\", \"boats.zip\", 130987447)"
            ],
            "text/plain": [
              "<IPython.core.display.Javascript object>"
            ]
          },
          "metadata": {
            "tags": []
          }
        },
        {
          "output_type": "display_data",
          "data": {
            "application/javascript": [
              "\n",
              "    async function download(id, filename, size) {\n",
              "      if (!google.colab.kernel.accessAllowed) {\n",
              "        return;\n",
              "      }\n",
              "      const div = document.createElement('div');\n",
              "      const label = document.createElement('label');\n",
              "      label.textContent = `Downloading \"${filename}\": `;\n",
              "      div.appendChild(label);\n",
              "      const progress = document.createElement('progress');\n",
              "      progress.max = size;\n",
              "      div.appendChild(progress);\n",
              "      document.body.appendChild(div);\n",
              "\n",
              "      const buffers = [];\n",
              "      let downloaded = 0;\n",
              "\n",
              "      const channel = await google.colab.kernel.comms.open(id);\n",
              "      // Send a message to notify the kernel that we're ready.\n",
              "      channel.send({})\n",
              "\n",
              "      for await (const message of channel.messages) {\n",
              "        // Send a message to notify the kernel that we're ready.\n",
              "        channel.send({})\n",
              "        if (message.buffers) {\n",
              "          for (const buffer of message.buffers) {\n",
              "            buffers.push(buffer);\n",
              "            downloaded += buffer.byteLength;\n",
              "            progress.value = downloaded;\n",
              "          }\n",
              "        }\n",
              "      }\n",
              "      const blob = new Blob(buffers, {type: 'application/binary'});\n",
              "      const a = document.createElement('a');\n",
              "      a.href = window.URL.createObjectURL(blob);\n",
              "      a.download = filename;\n",
              "      div.appendChild(a);\n",
              "      a.click();\n",
              "      div.remove();\n",
              "    }\n",
              "  "
            ],
            "text/plain": [
              "<IPython.core.display.Javascript object>"
            ]
          },
          "metadata": {
            "tags": []
          }
        },
        {
          "output_type": "display_data",
          "data": {
            "application/javascript": [
              "download(\"download_a7e5fdf0-c926-43d3-94fb-48776474e5bf\", \"planes.zip\", 108567301)"
            ],
            "text/plain": [
              "<IPython.core.display.Javascript object>"
            ]
          },
          "metadata": {
            "tags": []
          }
        },
        {
          "output_type": "display_data",
          "data": {
            "application/javascript": [
              "\n",
              "    async function download(id, filename, size) {\n",
              "      if (!google.colab.kernel.accessAllowed) {\n",
              "        return;\n",
              "      }\n",
              "      const div = document.createElement('div');\n",
              "      const label = document.createElement('label');\n",
              "      label.textContent = `Downloading \"${filename}\": `;\n",
              "      div.appendChild(label);\n",
              "      const progress = document.createElement('progress');\n",
              "      progress.max = size;\n",
              "      div.appendChild(progress);\n",
              "      document.body.appendChild(div);\n",
              "\n",
              "      const buffers = [];\n",
              "      let downloaded = 0;\n",
              "\n",
              "      const channel = await google.colab.kernel.comms.open(id);\n",
              "      // Send a message to notify the kernel that we're ready.\n",
              "      channel.send({})\n",
              "\n",
              "      for await (const message of channel.messages) {\n",
              "        // Send a message to notify the kernel that we're ready.\n",
              "        channel.send({})\n",
              "        if (message.buffers) {\n",
              "          for (const buffer of message.buffers) {\n",
              "            buffers.push(buffer);\n",
              "            downloaded += buffer.byteLength;\n",
              "            progress.value = downloaded;\n",
              "          }\n",
              "        }\n",
              "      }\n",
              "      const blob = new Blob(buffers, {type: 'application/binary'});\n",
              "      const a = document.createElement('a');\n",
              "      a.href = window.URL.createObjectURL(blob);\n",
              "      a.download = filename;\n",
              "      div.appendChild(a);\n",
              "      a.click();\n",
              "      div.remove();\n",
              "    }\n",
              "  "
            ],
            "text/plain": [
              "<IPython.core.display.Javascript object>"
            ]
          },
          "metadata": {
            "tags": []
          }
        },
        {
          "output_type": "display_data",
          "data": {
            "application/javascript": [
              "download(\"download_c8ca2a1e-c7d2-4802-aa9b-9ee48f2dd972\", \"submarines.zip\", 103265415)"
            ],
            "text/plain": [
              "<IPython.core.display.Javascript object>"
            ]
          },
          "metadata": {
            "tags": []
          }
        },
        {
          "output_type": "display_data",
          "data": {
            "application/javascript": [
              "\n",
              "    async function download(id, filename, size) {\n",
              "      if (!google.colab.kernel.accessAllowed) {\n",
              "        return;\n",
              "      }\n",
              "      const div = document.createElement('div');\n",
              "      const label = document.createElement('label');\n",
              "      label.textContent = `Downloading \"${filename}\": `;\n",
              "      div.appendChild(label);\n",
              "      const progress = document.createElement('progress');\n",
              "      progress.max = size;\n",
              "      div.appendChild(progress);\n",
              "      document.body.appendChild(div);\n",
              "\n",
              "      const buffers = [];\n",
              "      let downloaded = 0;\n",
              "\n",
              "      const channel = await google.colab.kernel.comms.open(id);\n",
              "      // Send a message to notify the kernel that we're ready.\n",
              "      channel.send({})\n",
              "\n",
              "      for await (const message of channel.messages) {\n",
              "        // Send a message to notify the kernel that we're ready.\n",
              "        channel.send({})\n",
              "        if (message.buffers) {\n",
              "          for (const buffer of message.buffers) {\n",
              "            buffers.push(buffer);\n",
              "            downloaded += buffer.byteLength;\n",
              "            progress.value = downloaded;\n",
              "          }\n",
              "        }\n",
              "      }\n",
              "      const blob = new Blob(buffers, {type: 'application/binary'});\n",
              "      const a = document.createElement('a');\n",
              "      a.href = window.URL.createObjectURL(blob);\n",
              "      a.download = filename;\n",
              "      div.appendChild(a);\n",
              "      a.click();\n",
              "      div.remove();\n",
              "    }\n",
              "  "
            ],
            "text/plain": [
              "<IPython.core.display.Javascript object>"
            ]
          },
          "metadata": {
            "tags": []
          }
        },
        {
          "output_type": "display_data",
          "data": {
            "application/javascript": [
              "download(\"download_9b974285-1bd2-4204-812a-03355cf617d3\", \"trucks.zip\", 146569833)"
            ],
            "text/plain": [
              "<IPython.core.display.Javascript object>"
            ]
          },
          "metadata": {
            "tags": []
          }
        }
      ]
    },
    {
      "cell_type": "markdown",
      "metadata": {
        "id": "lLaYTkxyBDdJ"
      },
      "source": [
        "## Training the algorithm"
      ]
    },
    {
      "cell_type": "code",
      "metadata": {
        "id": "SOXBsj05Bohz",
        "colab": {
          "base_uri": "https://localhost:8080/"
        },
        "outputId": "985e8282-099a-4ae9-be0a-6fc0f2572385"
      },
      "source": [
        "import numpy as np\n",
        "import cv2\n",
        "\n",
        "import PIL.Image as Image\n",
        "import os\n",
        "\n",
        "import matplotlib.pyplot as plt\n",
        "\n",
        "import tensorflow as tf\n",
        "import tensorflow_hub as hub\n",
        "\n",
        "from tensorflow import keras\n",
        "from tensorflow.keras import layers\n",
        "from tensorflow.keras.models import Sequential\n",
        "from keras.preprocessing import image\n",
        "\n",
        "import pathlib\n",
        "\n",
        "from sklearn.model_selection import train_test_split\n",
        "\n",
        "IMAGE_SHAPE = (224, 224)\n",
        "# classifier = tf.keras.Sequential([hub.keras_layer(\"https://tfhub.dev/google/tf2-preview/mobilenet_v2/classification/4\", input_shape = IMAGE_SHAPE+(3,))])\n",
        "\n",
        "data_dir = pathlib.Path('/content/assets/data_set')\n",
        "vehicles = {\n",
        "    'cars' : list(data_dir.glob('cars/*')),\n",
        "    'boats' : list(data_dir.glob('boats/*')),\n",
        "    'planes' : list(data_dir.glob('planes/*')),\n",
        "    'submarines' : list(data_dir.glob('submarines/*')),\n",
        "    'trucks' : list(data_dir.glob('trucks/*'))\n",
        "}\n",
        "\n",
        "vehicles_labels = {\n",
        "    'cars' : 0,\n",
        "    'boats' : 1,\n",
        "    'planes' : 2,\n",
        "    'submarines' : 3,\n",
        "    'trucks' : 4\n",
        "}\n",
        "\n",
        "x = []\n",
        "y = []\n",
        "\n",
        "for vehicle_type, images in vehicles.items():\n",
        "  for image in images:\n",
        "    img = cv2.imread(str(image))\n",
        "    try:\n",
        "      resized_img = cv2.resize(img, IMAGE_SHAPE, interpolation = cv2.INTER_AREA)\n",
        "    except:\n",
        "      continue\n",
        "    x.append(resized_img)\n",
        "    y.append(vehicles_labels[vehicle_type])\n",
        "\n",
        "x = np.array(x)\n",
        "y = np.array(y)\n",
        "\n",
        "x_train, x_test, y_train, y_test = train_test_split(x, y, random_state = 0)\n",
        "\n",
        "x_train_scaled = x_train / 255\n",
        "x_test_scaled = x_test / 255\n",
        "print(len(x_train))\n",
        "print(len(y_train))\n",
        "\n",
        "feature_extractor_model = \"https://tfhub.dev/google/tf2-preview/mobilenet_v2/feature_vector/4\"\n",
        "pretrained_model_without_top_layer = hub.KerasLayer(\n",
        "    feature_extractor_model, input_shape=(224, 224, 3), trainable=False)\n",
        "\n",
        "num_of_classes = 5\n",
        "\n",
        "model = tf.keras.Sequential([\n",
        "  pretrained_model_without_top_layer,\n",
        "  tf.keras.layers.Dense(num_of_classes)\n",
        "])\n",
        "\n",
        "print(model.summary())\n",
        "\n",
        "\n",
        "model.compile(\n",
        "  optimizer=\"adam\",\n",
        "  loss=tf.keras.losses.SparseCategoricalCrossentropy(from_logits=True),\n",
        "  metrics=['acc'])\n",
        "\n",
        "model.fit(x_train_scaled, y_train, epochs=5)\n",
        "\n",
        "model.evaluate(x_test_scaled,y_test)\n"
      ],
      "execution_count": 48,
      "outputs": [
        {
          "output_type": "stream",
          "text": [
            "1403\n",
            "1403\n",
            "Model: \"sequential_2\"\n",
            "_________________________________________________________________\n",
            "Layer (type)                 Output Shape              Param #   \n",
            "=================================================================\n",
            "keras_layer_2 (KerasLayer)   (None, 1280)              2257984   \n",
            "_________________________________________________________________\n",
            "dense_2 (Dense)              (None, 5)                 6405      \n",
            "=================================================================\n",
            "Total params: 2,264,389\n",
            "Trainable params: 6,405\n",
            "Non-trainable params: 2,257,984\n",
            "_________________________________________________________________\n",
            "None\n",
            "Epoch 1/5\n",
            "44/44 [==============================] - 35s 49ms/step - loss: 0.8154 - acc: 0.7092\n",
            "Epoch 2/5\n",
            "44/44 [==============================] - 2s 40ms/step - loss: 0.3010 - acc: 0.8988\n",
            "Epoch 3/5\n",
            "44/44 [==============================] - 2s 40ms/step - loss: 0.2319 - acc: 0.9252\n",
            "Epoch 4/5\n",
            "44/44 [==============================] - 2s 40ms/step - loss: 0.1882 - acc: 0.9408\n",
            "Epoch 5/5\n",
            "44/44 [==============================] - 2s 40ms/step - loss: 0.1525 - acc: 0.9629\n",
            "15/15 [==============================] - 1s 62ms/step - loss: 0.2886 - acc: 0.8953\n"
          ],
          "name": "stdout"
        },
        {
          "output_type": "execute_result",
          "data": {
            "text/plain": [
              "[0.28862443566322327, 0.8952991366386414]"
            ]
          },
          "metadata": {
            "tags": []
          },
          "execution_count": 48
        }
      ]
    }
  ]
}
